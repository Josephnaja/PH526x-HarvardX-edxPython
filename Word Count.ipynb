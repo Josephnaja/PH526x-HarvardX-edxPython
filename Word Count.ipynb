{
 "cells": [
  {
   "cell_type": "code",
   "execution_count": null,
   "metadata": {},
   "outputs": [],
   "source": [
    "def count_text(text):\n",
    "    \n",
    "    \"\"\"\n",
    "    Count the number of times each word occurs in a text(str). We are counting the number of appearance of each word in a text\n",
    "    and return a dictionary where keys are the unique words and the values are the words count.\n",
    "    \"\"\"\n",
    "    skip = [\".\", \",\", \";\", \":\", \"'\", '\"']\n",
    "    for ch in skip:\n",
    "        text =  text.replace(ch, \"\")\n",
    "        \n",
    "    word_count = {}\n",
    "    for word in text.split(\" \"):\n",
    "        if word in word_count:\n",
    "            word_count[word] += 1\n",
    "        else:\n",
    "            word_count[word] = 1\n",
    "            \n",
    "    return word_count"
   ]
  }
 ],
 "metadata": {
  "kernelspec": {
   "display_name": "Python 3",
   "language": "python",
   "name": "python3"
  },
  "language_info": {
   "codemirror_mode": {
    "name": "ipython",
    "version": 3
   },
   "file_extension": ".py",
   "mimetype": "text/x-python",
   "name": "python",
   "nbconvert_exporter": "python",
   "pygments_lexer": "ipython3",
   "version": "3.7.6"
  }
 },
 "nbformat": 4,
 "nbformat_minor": 4
}
