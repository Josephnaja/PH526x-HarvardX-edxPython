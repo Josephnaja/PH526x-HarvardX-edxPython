{
 "cells": [
  {
   "cell_type": "code",
   "execution_count": 1,
   "metadata": {},
   "outputs": [
    {
     "data": {
      "text/plain": [
       "'C:\\\\Users\\\\pc\\\\Desktop\\\\Python\\\\HarvardX\\\\Case Studies\\\\Translation'"
      ]
     },
     "execution_count": 1,
     "metadata": {},
     "output_type": "execute_result"
    }
   ],
   "source": [
    "pwd"
   ]
  },
  {
   "cell_type": "code",
   "execution_count": 2,
   "metadata": {},
   "outputs": [
    {
     "data": {
      "text/plain": [
       "'GGTCAGAAAAAGCCCTCTCCATGTCTACTCACGATACATCCCTGAAAACCACTGAGGAAGTGGCTTTTCA\\nGATCATCTTGCTTTGCCAGTTTGGGGTTGGGACTTTTGCCAATGTATTTCTCTTTGTCTATAATTTCTCT\\nCCAATCTCGACTGGTTCTAAACAGAGGCCCAGACAAGTGATTTTAAGACACATGGCTGTGGCCAATGCCT\\nTAACTCTCTTCCTCACTATATTTCCAAACAACATGATGACTTTTGCTCCAATTATTCCTCAAACTGACCT\\nCAAATGTAAATTAGAATTCTTCACTCGCCTCGTGGCAAGAAGCACAAACTTGTGTTCAACTTGTGTTCTG\\nAGTATCCATCAGTTTGTCACACTTGTTCCTGTTAATTCAGGTAAAGGAATACTCAGAGCAAGTGTCACAA\\nACATGGCAAGTTATTCTTGTTACAGTTGTTGGTTCTTCAGTGTCTTAAATAACATCTACATTCCAATTAA\\nGGTCACTGGTCCACAGTTAACAGACAATAACAATAACTCTAAAAGCAAGTTGTTCTGTTCCACTTCTGAT\\nTTCAGTGTAGGCATTGTCTTCTTGAGGTTTGCCCATGATGCCACATTCATGAGCATCATGGTCTGGACCA\\nGTGTCTCCATGGTACTTCTCCTCCATAGACATTGTCAGAGAATGCAGTACATATTCACTCTCAATCAGGA\\nCCCCAGGGGCCAAGCAGAGACCACAGCAACCCATACTATCCTGATGCTGGTAGTCACATTTGTTGGCTTT\\nTATCTTCTAAGTCTTATTTGTATCATCTTTTACACCTATTTTATATATTCTCATCATTCCCTGAGGCATT\\nGCAATGACATTTTGGTTTCGGGTTTCCCTACAATTTCTCCTTTACTGTTGACCTTCAGAGACCCTAAGGG\\nTCCTTGTTCTGTGTTCTTCAACTGTTGAAAGCCAGAGTCACTAAAAATGCCAAACACAGAAGACAGCTTT\\nGCTAATACCATTAAATACTTTATTCCATAAATATGTTTTTAAAAGCTTGTATGAACAAGGTATGGTGCTC\\nACTGCTATACTTATAAAAGAGTAAGGTTATAATCACTTGTTGATATGAAAAGATTTCTGGTTGGAATCTG\\nATTGAAACAGTGAGTTATTCACCACCCTCCATTCTCT'"
      ]
     },
     "execution_count": 2,
     "metadata": {},
     "output_type": "execute_result"
    }
   ],
   "source": [
    "######### DNA translation case study################\n",
    "inputfile = \"dna.txt\"\n",
    "f = open(inputfile, \"r\")\n",
    "seq = f.read()\n",
    "\n",
    "seq"
   ]
  },
  {
   "cell_type": "code",
   "execution_count": 3,
   "metadata": {},
   "outputs": [
    {
     "name": "stdout",
     "output_type": "stream",
     "text": [
      "GGTCAGAAAAAGCCCTCTCCATGTCTACTCACGATACATCCCTGAAAACCACTGAGGAAGTGGCTTTTCA\n",
      "GATCATCTTGCTTTGCCAGTTTGGGGTTGGGACTTTTGCCAATGTATTTCTCTTTGTCTATAATTTCTCT\n",
      "CCAATCTCGACTGGTTCTAAACAGAGGCCCAGACAAGTGATTTTAAGACACATGGCTGTGGCCAATGCCT\n",
      "TAACTCTCTTCCTCACTATATTTCCAAACAACATGATGACTTTTGCTCCAATTATTCCTCAAACTGACCT\n",
      "CAAATGTAAATTAGAATTCTTCACTCGCCTCGTGGCAAGAAGCACAAACTTGTGTTCAACTTGTGTTCTG\n",
      "AGTATCCATCAGTTTGTCACACTTGTTCCTGTTAATTCAGGTAAAGGAATACTCAGAGCAAGTGTCACAA\n",
      "ACATGGCAAGTTATTCTTGTTACAGTTGTTGGTTCTTCAGTGTCTTAAATAACATCTACATTCCAATTAA\n",
      "GGTCACTGGTCCACAGTTAACAGACAATAACAATAACTCTAAAAGCAAGTTGTTCTGTTCCACTTCTGAT\n",
      "TTCAGTGTAGGCATTGTCTTCTTGAGGTTTGCCCATGATGCCACATTCATGAGCATCATGGTCTGGACCA\n",
      "GTGTCTCCATGGTACTTCTCCTCCATAGACATTGTCAGAGAATGCAGTACATATTCACTCTCAATCAGGA\n",
      "CCCCAGGGGCCAAGCAGAGACCACAGCAACCCATACTATCCTGATGCTGGTAGTCACATTTGTTGGCTTT\n",
      "TATCTTCTAAGTCTTATTTGTATCATCTTTTACACCTATTTTATATATTCTCATCATTCCCTGAGGCATT\n",
      "GCAATGACATTTTGGTTTCGGGTTTCCCTACAATTTCTCCTTTACTGTTGACCTTCAGAGACCCTAAGGG\n",
      "TCCTTGTTCTGTGTTCTTCAACTGTTGAAAGCCAGAGTCACTAAAAATGCCAAACACAGAAGACAGCTTT\n",
      "GCTAATACCATTAAATACTTTATTCCATAAATATGTTTTTAAAAGCTTGTATGAACAAGGTATGGTGCTC\n",
      "ACTGCTATACTTATAAAAGAGTAAGGTTATAATCACTTGTTGATATGAAAAGATTTCTGGTTGGAATCTG\n",
      "ATTGAAACAGTGAGTTATTCACCACCCTCCATTCTCT\n"
     ]
    }
   ],
   "source": [
    "print(seq)"
   ]
  },
  {
   "cell_type": "code",
   "execution_count": 4,
   "metadata": {},
   "outputs": [],
   "source": [
    "seq = seq.replace(\"\\n\", \"\")"
   ]
  },
  {
   "cell_type": "code",
   "execution_count": 5,
   "metadata": {},
   "outputs": [
    {
     "name": "stdout",
     "output_type": "stream",
     "text": [
      "GGTCAGAAAAAGCCCTCTCCATGTCTACTCACGATACATCCCTGAAAACCACTGAGGAAGTGGCTTTTCAGATCATCTTGCTTTGCCAGTTTGGGGTTGGGACTTTTGCCAATGTATTTCTCTTTGTCTATAATTTCTCTCCAATCTCGACTGGTTCTAAACAGAGGCCCAGACAAGTGATTTTAAGACACATGGCTGTGGCCAATGCCTTAACTCTCTTCCTCACTATATTTCCAAACAACATGATGACTTTTGCTCCAATTATTCCTCAAACTGACCTCAAATGTAAATTAGAATTCTTCACTCGCCTCGTGGCAAGAAGCACAAACTTGTGTTCAACTTGTGTTCTGAGTATCCATCAGTTTGTCACACTTGTTCCTGTTAATTCAGGTAAAGGAATACTCAGAGCAAGTGTCACAAACATGGCAAGTTATTCTTGTTACAGTTGTTGGTTCTTCAGTGTCTTAAATAACATCTACATTCCAATTAAGGTCACTGGTCCACAGTTAACAGACAATAACAATAACTCTAAAAGCAAGTTGTTCTGTTCCACTTCTGATTTCAGTGTAGGCATTGTCTTCTTGAGGTTTGCCCATGATGCCACATTCATGAGCATCATGGTCTGGACCAGTGTCTCCATGGTACTTCTCCTCCATAGACATTGTCAGAGAATGCAGTACATATTCACTCTCAATCAGGACCCCAGGGGCCAAGCAGAGACCACAGCAACCCATACTATCCTGATGCTGGTAGTCACATTTGTTGGCTTTTATCTTCTAAGTCTTATTTGTATCATCTTTTACACCTATTTTATATATTCTCATCATTCCCTGAGGCATTGCAATGACATTTTGGTTTCGGGTTTCCCTACAATTTCTCCTTTACTGTTGACCTTCAGAGACCCTAAGGGTCCTTGTTCTGTGTTCTTCAACTGTTGAAAGCCAGAGTCACTAAAAATGCCAAACACAGAAGACAGCTTTGCTAATACCATTAAATACTTTATTCCATAAATATGTTTTTAAAAGCTTGTATGAACAAGGTATGGTGCTCACTGCTATACTTATAAAAGAGTAAGGTTATAATCACTTGTTGATATGAAAAGATTTCTGGTTGGAATCTGATTGAAACAGTGAGTTATTCACCACCCTCCATTCTCT\n"
     ]
    }
   ],
   "source": [
    "print(seq)"
   ]
  },
  {
   "cell_type": "code",
   "execution_count": 6,
   "metadata": {},
   "outputs": [],
   "source": [
    "seq = seq.replace(\"\\r\", \"\")"
   ]
  },
  {
   "cell_type": "code",
   "execution_count": 26,
   "metadata": {},
   "outputs": [],
   "source": [
    "def read_seq(inputfile):\n",
    "    \"\"\"The function reads and returns the input sequence with special characters removed\"\"\"\n",
    "    with  open(inputfile, \"r\") as f:\n",
    "        seq = f.read()\n",
    "        \n",
    "    seq = seq.replace(\"\\n\", \"\")\n",
    "    seq = seq.replace(\"\\r\", \"\")\n",
    "    return seq\n",
    "\n",
    "def translate(seq):\n",
    "    \n",
    "    \"\"\"Translate a string containing a nucleotide sequence into a string containing \n",
    "    the corresponding sequence of amino acids . Nucleotides are translated in triplets\n",
    "    using the table dictionary; each amino acid 4 is encoded with a string of length 1. \"\"\"\n",
    "    \n",
    "    table = {\n",
    "        'ATA':'I', 'ATC':'I', 'ATT':'I', 'ATG':'M',\n",
    "        'ACA':'T', 'ACC':'T', 'ACG':'T', 'ACT':'T',\n",
    "        'AAC':'N', 'AAT':'N', 'AAA':'K', 'AAG':'K',\n",
    "        'AGC':'S', 'AGT':'S', 'AGA':'R', 'AGG':'R',\n",
    "        'CTA':'L', 'CTC':'L', 'CTG':'L', 'CTT':'L',\n",
    "        'CCA':'P', 'CCC':'P', 'CCG':'P', 'CCT':'P',\n",
    "        'CAC':'H', 'CAT':'H', 'CAA':'Q', 'CAG':'Q',\n",
    "        'CGA':'R', 'CGC':'R', 'CGG':'R', 'CGT':'R',\n",
    "        'GTA':'V', 'GTC':'V', 'GTG':'V', 'GTT':'V',\n",
    "        'GCA':'A', 'GCC':'A', 'GCG':'A', 'GCT':'A',\n",
    "        'GAC':'D', 'GAT':'D', 'GAA':'E', 'GAG':'E',\n",
    "        'GGA':'G', 'GGC':'G', 'GGG':'G', 'GGT':'G',\n",
    "        'TCA':'S', 'TCC':'S', 'TCG':'S', 'TCT':'S',\n",
    "        'TTC':'F', 'TTT':'F', 'TTA':'L', 'TTG':'L',\n",
    "        'TAC':'Y', 'TAT':'Y', 'TAA':'_', 'TAG':'_',\n",
    "        'TGC':'C', 'TGT':'C', 'TGA':'_', 'TGG':'W',\n",
    "    }\n",
    "\n",
    "    protein = \"\"\n",
    "    #Check that the sequence length is divisible by 3\n",
    "    if len(seq) % 3 == 0:\n",
    "        #loop over the sequence\n",
    "        for i in range(0, len(seq), 3):\n",
    "\n",
    "            #extract a single codon\n",
    "            codon = seq[i : i+3]\n",
    "\n",
    "            #lookup the codon and store the results\n",
    "            protein += table[codon]\n",
    "            \n",
    "        return protein\n"
   ]
  },
  {
   "cell_type": "code",
   "execution_count": 28,
   "metadata": {},
   "outputs": [],
   "source": [
    "prt = read_seq(\"protein.txt\")"
   ]
  },
  {
   "cell_type": "code",
   "execution_count": 30,
   "metadata": {},
   "outputs": [],
   "source": [
    "dna = read_seq(\"dna.txt\")"
   ]
  },
  {
   "cell_type": "code",
   "execution_count": 31,
   "metadata": {},
   "outputs": [],
   "source": [
    "translate(dna)"
   ]
  },
  {
   "cell_type": "code",
   "execution_count": 32,
   "metadata": {},
   "outputs": [
    {
     "data": {
      "text/plain": [
       "'MSTHDTSLKTTEEVAFQIILLCQFGVGTFANVFLFVYNFSPISTGSKQRPRQVILRHMAVANALTLFLTIFPNNMMTFAPIIPQTDLKCKLEFFTRLVARSTNLCSTCVLSIHQFVTLVPVNSGKGILRASVTNMASYSCYSCWFFSVLNNIYIPIKVTGPQLTDNNNNSKSKLFCSTSDFSVGIVFLRFAHDATFMSIMVWTSVSMVLLLHRHCQRMQYIFTLNQDPRGQAETTATHTILMLVVTFVGFYLLSLICIIFYTYFIYSHHSLRHCNDILVSGFPTISPLLLTFRDPKGPCSVFFNC_'"
      ]
     },
     "execution_count": 32,
     "metadata": {},
     "output_type": "execute_result"
    }
   ],
   "source": [
    "translate(dna[20:938])"
   ]
  },
  {
   "cell_type": "code",
   "execution_count": 33,
   "metadata": {},
   "outputs": [
    {
     "data": {
      "text/plain": [
       "'MSTHDTSLKTTEEVAFQIILLCQFGVGTFANVFLFVYNFSPISTGSKQRPRQVILRHMAVANALTLFLTIFPNNMMTFAPIIPQTDLKCKLEFFTRLVARSTNLCSTCVLSIHQFVTLVPVNSGKGILRASVTNMASYSCYSCWFFSVLNNIYIPIKVTGPQLTDNNNNSKSKLFCSTSDFSVGIVFLRFAHDATFMSIMVWTSVSMVLLLHRHCQRMQYIFTLNQDPRGQAETTATHTILMLVVTFVGFYLLSLICIIFYTYFIYSHHSLRHCNDILVSGFPTISPLLLTFRDPKGPCSVFFNC'"
      ]
     },
     "execution_count": 33,
     "metadata": {},
     "output_type": "execute_result"
    }
   ],
   "source": [
    "prt"
   ]
  },
  {
   "cell_type": "code",
   "execution_count": 34,
   "metadata": {},
   "outputs": [
    {
     "data": {
      "text/plain": [
       "'MSTHDTSLKTTEEVAFQIILLCQFGVGTFANVFLFVYNFSPISTGSKQRPRQVILRHMAVANALTLFLTIFPNNMMTFAPIIPQTDLKCKLEFFTRLVARSTNLCSTCVLSIHQFVTLVPVNSGKGILRASVTNMASYSCYSCWFFSVLNNIYIPIKVTGPQLTDNNNNSKSKLFCSTSDFSVGIVFLRFAHDATFMSIMVWTSVSMVLLLHRHCQRMQYIFTLNQDPRGQAETTATHTILMLVVTFVGFYLLSLICIIFYTYFIYSHHSLRHCNDILVSGFPTISPLLLTFRDPKGPCSVFFNC'"
      ]
     },
     "execution_count": 34,
     "metadata": {},
     "output_type": "execute_result"
    }
   ],
   "source": [
    "translate(dna[20:935])"
   ]
  },
  {
   "cell_type": "code",
   "execution_count": 7,
   "metadata": {},
   "outputs": [
    {
     "ename": "NameError",
     "evalue": "name 'prt' is not defined",
     "output_type": "error",
     "traceback": [
      "\u001b[1;31m---------------------------------------------------------------------------\u001b[0m",
      "\u001b[1;31mNameError\u001b[0m                                 Traceback (most recent call last)",
      "\u001b[1;32m<ipython-input-7-25d741ad6bb0>\u001b[0m in \u001b[0;36m<module>\u001b[1;34m\u001b[0m\n\u001b[1;32m----> 1\u001b[1;33m \u001b[0mprt\u001b[0m \u001b[1;33m==\u001b[0m \u001b[0mtranslate\u001b[0m\u001b[1;33m(\u001b[0m\u001b[0mdna\u001b[0m\u001b[1;33m[\u001b[0m\u001b[1;36m20\u001b[0m\u001b[1;33m:\u001b[0m\u001b[1;36m935\u001b[0m\u001b[1;33m]\u001b[0m\u001b[1;33m)\u001b[0m\u001b[1;33m\u001b[0m\u001b[1;33m\u001b[0m\u001b[0m\n\u001b[0m",
      "\u001b[1;31mNameError\u001b[0m: name 'prt' is not defined"
     ]
    }
   ],
   "source": [
    "prt == translate(dna[20:935])"
   ]
  },
  {
   "cell_type": "code",
   "execution_count": 36,
   "metadata": {},
   "outputs": [
    {
     "data": {
      "text/plain": [
       "True"
      ]
     },
     "execution_count": 36,
     "metadata": {},
     "output_type": "execute_result"
    }
   ],
   "source": [
    "translate(dna[20:938])[:-1] == translate(dna[20:935])"
   ]
  },
  {
   "cell_type": "code",
   "execution_count": 16,
   "metadata": {},
   "outputs": [
    {
     "data": {
      "text/plain": [
       "{'this': 1,\n",
       " 'is': 1,\n",
       " 'my': 1,\n",
       " 'test': 1,\n",
       " 'text': 1,\n",
       " 'were': 1,\n",
       " 'keeping': 1,\n",
       " 'it': 2,\n",
       " 'short': 1,\n",
       " 'to': 1,\n",
       " 'keep': 1,\n",
       " 'things': 1,\n",
       " 'manageable': 1,\n",
       " 'well': 1,\n",
       " 'extend': 1,\n",
       " 'when': 1,\n",
       " 'we': 1,\n",
       " 'grap': 1,\n",
       " 'the': 1,\n",
       " 'concept': 1}"
      ]
     },
     "execution_count": 16,
     "metadata": {},
     "output_type": "execute_result"
    }
   ],
   "source": [
    "#####Language Processing Case study#######################\n",
    "\n",
    "text = \"This is my test text. We're keeping it short to keep things manageable. We'll extend it when we grap the concept\"\n",
    "text = text.lower()\n",
    "\n",
    "def count_text(text):\n",
    "    \n",
    "    \"\"\"\n",
    "    We are counting the number of appearance of each word in a text\n",
    "    \"\"\"\n",
    "    skip = [\".\", \",\", \";\", \":\", \"'\", '\"']\n",
    "    for ch in skip:\n",
    "        text =  text.replace(ch, \"\")\n",
    "        \n",
    "    word_count = {}\n",
    "    \n",
    "    for word in text.split(\" \"):\n",
    "        if word in word_count:\n",
    "            word_count[word] += 1\n",
    "        else:\n",
    "            word_count[word] = 1\n",
    "            \n",
    "    return word_count\n",
    "\n",
    "count_text(text)"
   ]
  },
  {
   "cell_type": "code",
   "execution_count": 17,
   "metadata": {},
   "outputs": [
    {
     "data": {
      "text/plain": [
       "Counter({'this': 1,\n",
       "         'is': 1,\n",
       "         'my': 1,\n",
       "         'test': 1,\n",
       "         'text': 1,\n",
       "         'were': 1,\n",
       "         'keeping': 1,\n",
       "         'it': 2,\n",
       "         'short': 1,\n",
       "         'to': 1,\n",
       "         'keep': 1,\n",
       "         'things': 1,\n",
       "         'manageable': 1,\n",
       "         'well': 1,\n",
       "         'extend': 1,\n",
       "         'when': 1,\n",
       "         'we': 1,\n",
       "         'grap': 1,\n",
       "         'the': 1,\n",
       "         'concept': 1})"
      ]
     },
     "execution_count": 17,
     "metadata": {},
     "output_type": "execute_result"
    }
   ],
   "source": [
    "#Using Counter() method\n",
    "\n",
    "from collections import Counter\n",
    "\n",
    "text = \"This is my test text. We're keeping it short to keep things manageable. We'll extend it when we grap the concept\"\n",
    "text = text.lower()\n",
    "\n",
    "def count_text_fast(text):\n",
    "    \n",
    "    \"\"\"\n",
    "    We are counting the number of appearance of each word in a text\n",
    "    \"\"\"\n",
    "    skip = [\".\", \",\", \";\", \":\", \"'\", '\"']\n",
    "    for ch in skip:\n",
    "        text =  text.replace(ch, \"\")\n",
    "        \n",
    "    word_count = Counter(text.split(\" \"))\n",
    "    \n",
    "    return word_count\n",
    "\n",
    "count_text_fast(text)\n"
   ]
  },
  {
   "cell_type": "code",
   "execution_count": 18,
   "metadata": {},
   "outputs": [
    {
     "data": {
      "text/plain": [
       "False"
      ]
     },
     "execution_count": 18,
     "metadata": {},
     "output_type": "execute_result"
    }
   ],
   "source": [
    "count_text(text) is count_text_fast(text)"
   ]
  },
  {
   "cell_type": "code",
   "execution_count": 55,
   "metadata": {},
   "outputs": [],
   "source": [
    "def read_book(title_path):\n",
    "    \"\"\"\n",
    "    Read a book \n",
    "    \"\"\"\n",
    "    with open(title_path, \"r\", encoding=\"utf8\") as current_file:\n",
    "        text = current_file.read()\n",
    "        text = text.replace(\"\\n\", \"\").replace(\"\\r\", \"\")\n",
    "        \n",
    "    return text\n",
    "\n",
    "text = read_book(\"C:/Users/pc/Desktop/Python/Romeo and Juliet.txt\")"
   ]
  },
  {
   "cell_type": "code",
   "execution_count": 26,
   "metadata": {},
   "outputs": [
    {
     "data": {
      "text/plain": [
       "169275"
      ]
     },
     "execution_count": 26,
     "metadata": {},
     "output_type": "execute_result"
    }
   ],
   "source": [
    "len(text)"
   ]
  },
  {
   "cell_type": "code",
   "execution_count": 27,
   "metadata": {},
   "outputs": [],
   "source": [
    "ind = text.find(\"What's in a name?\")"
   ]
  },
  {
   "cell_type": "code",
   "execution_count": 28,
   "metadata": {},
   "outputs": [
    {
     "data": {
      "text/plain": [
       "42757"
      ]
     },
     "execution_count": 28,
     "metadata": {},
     "output_type": "execute_result"
    }
   ],
   "source": [
    "ind"
   ]
  },
  {
   "cell_type": "code",
   "execution_count": 31,
   "metadata": {},
   "outputs": [],
   "source": [
    "sample_text = text[ind : ind+1000]"
   ]
  },
  {
   "cell_type": "code",
   "execution_count": 32,
   "metadata": {},
   "outputs": [
    {
     "data": {
      "text/plain": [
       "\"What's in a name? That which we call a rose    By any other name would smell as sweet.    So Romeo would, were he not Romeo call'd,    Retain that dear perfection which he owes    Without that title. Romeo, doff thy name;    And for that name, which is no part of thee,    Take all myself.  Rom. I take thee at thy word.    Call me but love, and I'll be new baptiz'd;    Henceforth I never will be Romeo.  Jul. What man art thou that, thus bescreen'd in night,    So stumblest on my counsel?  Rom. By a name    I know not how to tell thee who I am.    My name, dear saint, is hateful to myself,    Because it is an enemy to thee.    Had I it written, I would tear the word.  Jul. My ears have yet not drunk a hundred words    Of that tongue's utterance, yet I know the sound.    Art thou not Romeo, and a Montague?  Rom. Neither, fair saint, if either thee dislike.  Jul. How cam'st thou hither, tell me, and wherefore?    The orchard walls are high and hard to climb,    And the place death, conside\""
      ]
     },
     "execution_count": 32,
     "metadata": {},
     "output_type": "execute_result"
    }
   ],
   "source": [
    "sample_text"
   ]
  },
  {
   "cell_type": "code",
   "execution_count": 56,
   "metadata": {},
   "outputs": [],
   "source": [
    "def word_stats(word_counts):\n",
    "    \n",
    "    \"\"\"\n",
    "    Return the number of words and words frequencies in a book.\n",
    "    \"\"\"\n",
    "    num_unique = len(word_counts)\n",
    "    counts = word_counts.values()\n",
    "    \n",
    "    return (num_unique, counts)\n",
    "    \n",
    "    "
   ]
  },
  {
   "cell_type": "code",
   "execution_count": 58,
   "metadata": {},
   "outputs": [],
   "source": [
    "text = read_book(\"C:/Users/pc/Desktop/Python/Romeo and Juliet.txt\")\n",
    "word_counts = count_text(text)\n",
    "(num_unique, counts) = word_stats(word_counts)"
   ]
  },
  {
   "cell_type": "code",
   "execution_count": 35,
   "metadata": {},
   "outputs": [
    {
     "data": {
      "text/plain": [
       "5714"
      ]
     },
     "execution_count": 35,
     "metadata": {},
     "output_type": "execute_result"
    }
   ],
   "source": [
    "num_unique"
   ]
  },
  {
   "cell_type": "code",
   "execution_count": 57,
   "metadata": {},
   "outputs": [
    {
     "data": {
      "text/plain": [
       "30567"
      ]
     },
     "execution_count": 57,
     "metadata": {},
     "output_type": "execute_result"
    }
   ],
   "source": [
    "sum(counts)"
   ]
  },
  {
   "cell_type": "code",
   "execution_count": 59,
   "metadata": {},
   "outputs": [],
   "source": [
    "text = read_book(\"C:/Users/pc/Desktop/Python/Romeo und Julia.txt\")\n",
    "word_counts = count_text(text)\n",
    "(num_unique, counts) = word_stats(word_counts)"
   ]
  },
  {
   "cell_type": "code",
   "execution_count": 41,
   "metadata": {},
   "outputs": [
    {
     "data": {
      "text/plain": [
       "7890"
      ]
     },
     "execution_count": 41,
     "metadata": {},
     "output_type": "execute_result"
    }
   ],
   "source": [
    "num_unique"
   ]
  },
  {
   "cell_type": "code",
   "execution_count": 60,
   "metadata": {},
   "outputs": [
    {
     "data": {
      "text/plain": [
       "20311"
      ]
     },
     "execution_count": 60,
     "metadata": {},
     "output_type": "execute_result"
    }
   ],
   "source": [
    "sum(counts)"
   ]
  },
  {
   "cell_type": "code",
   "execution_count": 61,
   "metadata": {},
   "outputs": [
    {
     "name": "stdout",
     "output_type": "stream",
     "text": [
      "C:/Users/pc/Desktop/Python/Books/English/shakespeare/A Midsummer Night's Dream.txt\n",
      "C:/Users/pc/Desktop/Python/Books/English/shakespeare/Hamlet.txt\n",
      "C:/Users/pc/Desktop/Python/Books/English/shakespeare/Macbeth.txt\n",
      "C:/Users/pc/Desktop/Python/Books/English/shakespeare/Othello.txt\n",
      "C:/Users/pc/Desktop/Python/Books/English/shakespeare/Richard III.txt\n",
      "C:/Users/pc/Desktop/Python/Books/English/shakespeare/Romeo and Juliet.txt\n",
      "C:/Users/pc/Desktop/Python/Books/English/shakespeare/The Merchant of Venice.txt\n",
      "C:/Users/pc/Desktop/Python/Books/French/chevalier/L'enfer et le paradis de l'autre monde.txt\n",
      "C:/Users/pc/Desktop/Python/Books/French/chevalier/L'åle de sable.txt\n",
      "C:/Users/pc/Desktop/Python/Books/French/chevalier/La capitaine.txt\n",
      "C:/Users/pc/Desktop/Python/Books/French/chevalier/La fille des indiens rouges.txt\n",
      "C:/Users/pc/Desktop/Python/Books/French/chevalier/La fille du pirate.txt\n",
      "C:/Users/pc/Desktop/Python/Books/French/chevalier/Le chasseur noir.txt\n",
      "C:/Users/pc/Desktop/Python/Books/French/chevalier/Les derniers Iroquois.txt\n",
      "C:/Users/pc/Desktop/Python/Books/French/de Maupassant/Boule de Suif.txt\n",
      "C:/Users/pc/Desktop/Python/Books/French/de Maupassant/Claire de Lune.txt\n",
      "C:/Users/pc/Desktop/Python/Books/French/de Maupassant/Contes de la Becasse.txt\n",
      "C:/Users/pc/Desktop/Python/Books/French/de Maupassant/L'inutile beautÇ.txt\n",
      "C:/Users/pc/Desktop/Python/Books/French/de Maupassant/La Main Gauche.txt\n",
      "C:/Users/pc/Desktop/Python/Books/French/de Maupassant/La Maison Tellier.txt\n",
      "C:/Users/pc/Desktop/Python/Books/French/de Maupassant/La petite roque.txt\n",
      "C:/Users/pc/Desktop/Python/Books/French/de Maupassant/Le Horla.txt\n",
      "C:/Users/pc/Desktop/Python/Books/French/de Maupassant/Œuvres complètes de Guy de Maupassant.txt\n",
      "C:/Users/pc/Desktop/Python/Books/French/diderot/Ceci n'est pas un conte.txt\n",
      "C:/Users/pc/Desktop/Python/Books/French/diderot/Entretien d'un päre avec ses enfants.txt\n",
      "C:/Users/pc/Desktop/Python/Books/French/diderot/L'oiseau blanc.txt\n",
      "C:/Users/pc/Desktop/Python/Books/French/diderot/Les deux amis de Bourbonne.txt\n",
      "C:/Users/pc/Desktop/Python/Books/French/diderot/Regrets sur ma vieille robe de chambre.txt\n",
      "C:/Users/pc/Desktop/Python/Books/French/sand/cora.txt\n",
      "C:/Users/pc/Desktop/Python/Books/French/sand/Jacques le fataliste et son maåtre.txt\n",
      "C:/Users/pc/Desktop/Python/Books/French/sand/L' Orco.txt\n",
      "C:/Users/pc/Desktop/Python/Books/French/sand/La Coupe; Lupo Liverani; Le Toast; Garnier; Le Contrebandier; La Ràverie Ö Paris.txt\n",
      "C:/Users/pc/Desktop/Python/Books/French/sand/La Marquise.txt\n",
      "C:/Users/pc/Desktop/Python/Books/French/sand/Le Piccinino.txt\n",
      "C:/Users/pc/Desktop/Python/Books/French/sand/Le poâme de Myrza.txt\n",
      "C:/Users/pc/Desktop/Python/Books/French/sand/Mattea.txt\n",
      "C:/Users/pc/Desktop/Python/Books/French/sand/Metella.txt\n",
      "C:/Users/pc/Desktop/Python/Books/French/sand/Oeuvres illustrÇes de George Sand.txt\n",
      "C:/Users/pc/Desktop/Python/Books/French/sand/Pauline.txt\n",
      "C:/Users/pc/Desktop/Python/Books/German/lessing/der freigeist.txt\n",
      "C:/Users/pc/Desktop/Python/Books/German/lessing/der junge gelehrte.txt\n",
      "C:/Users/pc/Desktop/Python/Books/German/lessing/die juden.txt\n",
      "C:/Users/pc/Desktop/Python/Books/German/lessing/emilia galotti.txt\n",
      "C:/Users/pc/Desktop/Python/Books/German/lessing/hamburgische dramaturgie.txt\n",
      "C:/Users/pc/Desktop/Python/Books/German/lessing/minna von barnhelm.txt\n",
      "C:/Users/pc/Desktop/Python/Books/German/lessing/miss sara sampson.txt\n",
      "C:/Users/pc/Desktop/Python/Books/German/lessing/philotas.txt\n",
      "C:/Users/pc/Desktop/Python/Books/German/raimund/Das MÑdchen aus der Feenwelt.txt\n",
      "C:/Users/pc/Desktop/Python/Books/German/raimund/Der Alpenkînig und der Menschenfeind.txt\n",
      "C:/Users/pc/Desktop/Python/Books/German/raimund/Der Barometermacher auf der Zauberinsel.txt\n",
      "C:/Users/pc/Desktop/Python/Books/German/raimund/Der Diamant des Geisterkînigs.txt\n",
      "C:/Users/pc/Desktop/Python/Books/German/raimund/Der Verschwender.txt\n",
      "C:/Users/pc/Desktop/Python/Books/German/raimund/Die gefesselte Phantasie.txt\n",
      "C:/Users/pc/Desktop/Python/Books/German/raimund/Die unheilbringende Krone.txt\n",
      "C:/Users/pc/Desktop/Python/Books/German/raimund/Moisasurs Zauberfluch.txt\n",
      "C:/Users/pc/Desktop/Python/Books/German/schiller/Der Neffe als Onkel.txt\n",
      "C:/Users/pc/Desktop/Python/Books/German/schiller/Der Parasit, oder die Kunst, sein GlÅck zu machen.txt\n",
      "C:/Users/pc/Desktop/Python/Books/German/schiller/die braut von messina.txt\n",
      "C:/Users/pc/Desktop/Python/Books/German/schiller/Die Huldigung der KÅnste.txt\n",
      "C:/Users/pc/Desktop/Python/Books/German/schiller/Die Jungfrau von Orleans.txt\n",
      "C:/Users/pc/Desktop/Python/Books/German/schiller/Die Piccolomini.txt\n",
      "C:/Users/pc/Desktop/Python/Books/German/schiller/Die Verschwîrung des Fiesco zu Genua.txt\n",
      "C:/Users/pc/Desktop/Python/Books/German/schiller/Kabale und Liebe.txt\n",
      "C:/Users/pc/Desktop/Python/Books/German/schiller/Turandot, Prinzessin von China.txt\n",
      "C:/Users/pc/Desktop/Python/Books/German/schiller/Wallensteins Lager.txt\n",
      "C:/Users/pc/Desktop/Python/Books/German/schiller/Wallensteins Tod.txt\n",
      "C:/Users/pc/Desktop/Python/Books/German/shakespeare/Der Kaufmann von Venedig.txt\n",
      "C:/Users/pc/Desktop/Python/Books/German/shakespeare/Ein Sommernachtstraum.txt\n",
      "C:/Users/pc/Desktop/Python/Books/German/shakespeare/Hamlet.txt\n",
      "C:/Users/pc/Desktop/Python/Books/German/shakespeare/Macbeth.txt\n",
      "C:/Users/pc/Desktop/Python/Books/German/shakespeare/Othello.txt\n",
      "C:/Users/pc/Desktop/Python/Books/German/shakespeare/Richard III.txt\n",
      "C:/Users/pc/Desktop/Python/Books/German/shakespeare/Romeo und Julia.txt\n",
      "C:/Users/pc/Desktop/Python/Books/Portuguese/branco/A Filha do Arcediago.txt\n",
      "C:/Users/pc/Desktop/Python/Books/Portuguese/branco/A Neta do Arcediago.txt\n",
      "C:/Users/pc/Desktop/Python/Books/Portuguese/branco/A Queda d'um Anjo.txt\n",
      "C:/Users/pc/Desktop/Python/Books/Portuguese/branco/Agulha em Palheiro.txt\n",
      "C:/Users/pc/Desktop/Python/Books/Portuguese/branco/Amor de Perdição.txt\n",
      "C:/Users/pc/Desktop/Python/Books/Portuguese/branco/Amor de Salvação.txt\n",
      "C:/Users/pc/Desktop/Python/Books/Portuguese/branco/Annos de Prosa.txt\n",
      "C:/Users/pc/Desktop/Python/Books/Portuguese/branco/Carlota Angela.txt\n",
      "C:/Users/pc/Desktop/Python/Books/Portuguese/branco/Estrellas Funestas.txt\n",
      "C:/Users/pc/Desktop/Python/Books/Portuguese/branco/Estrellas Prop°cias.txt\n",
      "C:/Users/pc/Desktop/Python/Books/Portuguese/branco/Lagrimas Abenáoadas.txt\n",
      "C:/Users/pc/Desktop/Python/Books/Portuguese/branco/Livro de Consolação.txt\n",
      "C:/Users/pc/Desktop/Python/Books/Portuguese/branco/O Olho de Vidro.txt\n",
      "C:/Users/pc/Desktop/Python/Books/Portuguese/branco/O que fazem mulheres.txt\n",
      "C:/Users/pc/Desktop/Python/Books/Portuguese/branco/O Regicida.txt\n",
      "C:/Users/pc/Desktop/Python/Books/Portuguese/branco/Scenas Contemporaneas.txt\n",
      "C:/Users/pc/Desktop/Python/Books/Portuguese/dinis/A Morgadinha dos Cannaviaes.txt\n",
      "C:/Users/pc/Desktop/Python/Books/Portuguese/dinis/Os fidalgos da Casa Mourisca.txt\n",
      "C:/Users/pc/Desktop/Python/Books/Portuguese/dinis/Uma fam°lia ingleza.txt\n",
      "C:/Users/pc/Desktop/Python/Books/Portuguese/Queir¢s/A Cidade e as Serras.txt\n",
      "C:/Users/pc/Desktop/Python/Books/Portuguese/Queir¢s/A correspondància de Fradique Mendes.txt\n",
      "C:/Users/pc/Desktop/Python/Books/Portuguese/Queir¢s/A Illustre Casa de Ramires.txt\n",
      "C:/Users/pc/Desktop/Python/Books/Portuguese/Queir¢s/A Rel°quia.txt\n",
      "C:/Users/pc/Desktop/Python/Books/Portuguese/Queir¢s/Cartas de Inglaterra.txt\n",
      "C:/Users/pc/Desktop/Python/Books/Portuguese/Queir¢s/O crime do padre Amaro.txt\n",
      "C:/Users/pc/Desktop/Python/Books/Portuguese/Queir¢s/O Mandarim.txt\n",
      "C:/Users/pc/Desktop/Python/Books/Portuguese/Queir¢s/O Primo Bazilio.txt\n",
      "C:/Users/pc/Desktop/Python/Books/Portuguese/Queir¢s/Os Maias.txt\n",
      "C:/Users/pc/Desktop/Python/Books/Portuguese/shakespeare/Hamlet.txt\n"
     ]
    }
   ],
   "source": [
    "import os\n",
    "books_dir = \"C:/Users/pc/Desktop/Python/Books\"\n",
    "\n",
    "\n",
    "\n",
    "for language in os.listdir(books_dir):\n",
    "    for author in os.listdir(books_dir+ \"/\" +language):\n",
    "        for title in os.listdir(books_dir+ \"/\" +language+ \"/\" +author):\n",
    "            inputfile = books_dir+ \"/\" +language+ \"/\" +author+ \"/\" +title\n",
    "            print(inputfile)\n",
    "            text = read_book(inputfile)\n",
    "            (num_unique, counts) = word_stats(count_text(text))\n",
    "            "
   ]
  },
  {
   "cell_type": "code",
   "execution_count": 50,
   "metadata": {},
   "outputs": [
    {
     "data": {
      "text/html": [
       "<div>\n",
       "<style scoped>\n",
       "    .dataframe tbody tr th:only-of-type {\n",
       "        vertical-align: middle;\n",
       "    }\n",
       "\n",
       "    .dataframe tbody tr th {\n",
       "        vertical-align: top;\n",
       "    }\n",
       "\n",
       "    .dataframe thead th {\n",
       "        text-align: right;\n",
       "    }\n",
       "</style>\n",
       "<table border=\"1\" class=\"dataframe\">\n",
       "  <thead>\n",
       "    <tr style=\"text-align: right;\">\n",
       "      <th></th>\n",
       "      <th>Name</th>\n",
       "      <th>Age</th>\n",
       "    </tr>\n",
       "  </thead>\n",
       "  <tbody>\n",
       "    <tr>\n",
       "      <th>1</th>\n",
       "      <td>James</td>\n",
       "      <td>22</td>\n",
       "    </tr>\n",
       "    <tr>\n",
       "      <th>2</th>\n",
       "      <td>Joseph</td>\n",
       "      <td>29</td>\n",
       "    </tr>\n",
       "  </tbody>\n",
       "</table>\n",
       "</div>"
      ],
      "text/plain": [
       "     Name Age\n",
       "1   James  22\n",
       "2  Joseph  29"
      ]
     },
     "execution_count": 50,
     "metadata": {},
     "output_type": "execute_result"
    }
   ],
   "source": [
    "import pandas as pd\n",
    "\n",
    "table = pd.DataFrame(columns = (\"Name\", \"Age\"))\n",
    "\n",
    "table.loc[1] = \"James\", 22\n",
    "table.loc[2] = \"Joseph\", 29\n",
    "\n",
    "table"
   ]
  },
  {
   "cell_type": "code",
   "execution_count": 74,
   "metadata": {},
   "outputs": [
    {
     "ename": "TypeError",
     "evalue": "data type \"LENGTH\" not understood",
     "output_type": "error",
     "traceback": [
      "\u001b[1;31m---------------------------------------------------------------------------\u001b[0m",
      "\u001b[1;31mTypeError\u001b[0m                                 Traceback (most recent call last)",
      "\u001b[1;32m<ipython-input-74-1c17997ca7a1>\u001b[0m in \u001b[0;36m<module>\u001b[1;34m\u001b[0m\n\u001b[0;32m      3\u001b[0m \u001b[1;33m\u001b[0m\u001b[0m\n\u001b[0;32m      4\u001b[0m \u001b[1;32mimport\u001b[0m \u001b[0mpandas\u001b[0m \u001b[1;32mas\u001b[0m \u001b[0mpd\u001b[0m\u001b[1;33m\u001b[0m\u001b[1;33m\u001b[0m\u001b[0m\n\u001b[1;32m----> 5\u001b[1;33m \u001b[0mstats\u001b[0m \u001b[1;33m=\u001b[0m \u001b[0mpd\u001b[0m\u001b[1;33m.\u001b[0m\u001b[0mDataFrame\u001b[0m\u001b[1;33m(\u001b[0m\u001b[1;34m\"LANGUAGE\"\u001b[0m\u001b[1;33m,\u001b[0m \u001b[1;34m\"AUTHOR\"\u001b[0m\u001b[1;33m,\u001b[0m \u001b[1;34m\"TITLE\"\u001b[0m\u001b[1;33m,\u001b[0m \u001b[1;34m\"LENGTH\"\u001b[0m\u001b[1;33m,\u001b[0m \u001b[1;34m\"UNIQUE\"\u001b[0m\u001b[1;33m)\u001b[0m\u001b[1;33m\u001b[0m\u001b[1;33m\u001b[0m\u001b[0m\n\u001b[0m\u001b[0;32m      6\u001b[0m \u001b[0mtitle_num\u001b[0m \u001b[1;33m=\u001b[0m \u001b[1;36m1\u001b[0m\u001b[1;33m\u001b[0m\u001b[1;33m\u001b[0m\u001b[0m\n\u001b[0;32m      7\u001b[0m \u001b[1;33m\u001b[0m\u001b[0m\n",
      "\u001b[1;32m~\\anaconda3\\lib\\site-packages\\pandas\\core\\frame.py\u001b[0m in \u001b[0;36m__init__\u001b[1;34m(self, data, index, columns, dtype, copy)\u001b[0m\n\u001b[0;32m    423\u001b[0m             \u001b[0mdata\u001b[0m \u001b[1;33m=\u001b[0m \u001b[1;33m{\u001b[0m\u001b[1;33m}\u001b[0m\u001b[1;33m\u001b[0m\u001b[1;33m\u001b[0m\u001b[0m\n\u001b[0;32m    424\u001b[0m         \u001b[1;32mif\u001b[0m \u001b[0mdtype\u001b[0m \u001b[1;32mis\u001b[0m \u001b[1;32mnot\u001b[0m \u001b[1;32mNone\u001b[0m\u001b[1;33m:\u001b[0m\u001b[1;33m\u001b[0m\u001b[1;33m\u001b[0m\u001b[0m\n\u001b[1;32m--> 425\u001b[1;33m             \u001b[0mdtype\u001b[0m \u001b[1;33m=\u001b[0m \u001b[0mself\u001b[0m\u001b[1;33m.\u001b[0m\u001b[0m_validate_dtype\u001b[0m\u001b[1;33m(\u001b[0m\u001b[0mdtype\u001b[0m\u001b[1;33m)\u001b[0m\u001b[1;33m\u001b[0m\u001b[1;33m\u001b[0m\u001b[0m\n\u001b[0m\u001b[0;32m    426\u001b[0m \u001b[1;33m\u001b[0m\u001b[0m\n\u001b[0;32m    427\u001b[0m         \u001b[1;32mif\u001b[0m \u001b[0misinstance\u001b[0m\u001b[1;33m(\u001b[0m\u001b[0mdata\u001b[0m\u001b[1;33m,\u001b[0m \u001b[0mDataFrame\u001b[0m\u001b[1;33m)\u001b[0m\u001b[1;33m:\u001b[0m\u001b[1;33m\u001b[0m\u001b[1;33m\u001b[0m\u001b[0m\n",
      "\u001b[1;32m~\\anaconda3\\lib\\site-packages\\pandas\\core\\generic.py\u001b[0m in \u001b[0;36m_validate_dtype\u001b[1;34m(self, dtype)\u001b[0m\n\u001b[0;32m    257\u001b[0m \u001b[1;33m\u001b[0m\u001b[0m\n\u001b[0;32m    258\u001b[0m         \u001b[1;32mif\u001b[0m \u001b[0mdtype\u001b[0m \u001b[1;32mis\u001b[0m \u001b[1;32mnot\u001b[0m \u001b[1;32mNone\u001b[0m\u001b[1;33m:\u001b[0m\u001b[1;33m\u001b[0m\u001b[1;33m\u001b[0m\u001b[0m\n\u001b[1;32m--> 259\u001b[1;33m             \u001b[0mdtype\u001b[0m \u001b[1;33m=\u001b[0m \u001b[0mpandas_dtype\u001b[0m\u001b[1;33m(\u001b[0m\u001b[0mdtype\u001b[0m\u001b[1;33m)\u001b[0m\u001b[1;33m\u001b[0m\u001b[1;33m\u001b[0m\u001b[0m\n\u001b[0m\u001b[0;32m    260\u001b[0m \u001b[1;33m\u001b[0m\u001b[0m\n\u001b[0;32m    261\u001b[0m             \u001b[1;31m# a compound dtype\u001b[0m\u001b[1;33m\u001b[0m\u001b[1;33m\u001b[0m\u001b[1;33m\u001b[0m\u001b[0m\n",
      "\u001b[1;32m~\\anaconda3\\lib\\site-packages\\pandas\\core\\dtypes\\common.py\u001b[0m in \u001b[0;36mpandas_dtype\u001b[1;34m(dtype)\u001b[0m\n\u001b[0;32m   1872\u001b[0m     \u001b[1;31m# raise a consistent TypeError if failed\u001b[0m\u001b[1;33m\u001b[0m\u001b[1;33m\u001b[0m\u001b[1;33m\u001b[0m\u001b[0m\n\u001b[0;32m   1873\u001b[0m     \u001b[1;32mtry\u001b[0m\u001b[1;33m:\u001b[0m\u001b[1;33m\u001b[0m\u001b[1;33m\u001b[0m\u001b[0m\n\u001b[1;32m-> 1874\u001b[1;33m         \u001b[0mnpdtype\u001b[0m \u001b[1;33m=\u001b[0m \u001b[0mnp\u001b[0m\u001b[1;33m.\u001b[0m\u001b[0mdtype\u001b[0m\u001b[1;33m(\u001b[0m\u001b[0mdtype\u001b[0m\u001b[1;33m)\u001b[0m\u001b[1;33m\u001b[0m\u001b[1;33m\u001b[0m\u001b[0m\n\u001b[0m\u001b[0;32m   1875\u001b[0m     \u001b[1;32mexcept\u001b[0m \u001b[0mSyntaxError\u001b[0m\u001b[1;33m:\u001b[0m\u001b[1;33m\u001b[0m\u001b[1;33m\u001b[0m\u001b[0m\n\u001b[0;32m   1876\u001b[0m         \u001b[1;31m# np.dtype uses `eval` which can raise SyntaxError\u001b[0m\u001b[1;33m\u001b[0m\u001b[1;33m\u001b[0m\u001b[1;33m\u001b[0m\u001b[0m\n",
      "\u001b[1;31mTypeError\u001b[0m: data type \"LENGTH\" not understood"
     ]
    }
   ],
   "source": [
    "\n",
    "\n",
    "import os\n",
    "books_dir = \"C:/Users/pc/Desktop/Python/Books\"\n",
    "\n",
    "import pandas as pd\n",
    "stats = pd.DataFrame(\"LANGUAGE\", \"AUTHOR\", \"TITLE\", \"LENGTH\", \"UNIQUE\")\n",
    "title_num = 1\n",
    "\n",
    "for language in os.listdir(books_dir):\n",
    "    for author in os.listdir(books_dir+ \"/\" +LANGUAGE):\n",
    "        for title in os.listdir(books_dir+ \"/\" +LANGUAGE+ \"/\" +AUTHOR):\n",
    "            inputfile = books_dir+ \"/\" +LANGUAGE+ \"/\" +AUTHOR+ \"/\" +TITLE\n",
    "            print(inputfile)\n",
    "            text = read_book(inputfile)\n",
    "            (num_unique, counts) = word_stats(count_text(text))\n",
    "            \n",
    "            stats.loc[title_num] = LANGUAGE, AUTHOR, TITLE, sum(counts), num_unique\n",
    "            title_num += 1"
   ]
  },
  {
   "cell_type": "code",
   "execution_count": 75,
   "metadata": {},
   "outputs": [
    {
     "ename": "NameError",
     "evalue": "name 'stats' is not defined",
     "output_type": "error",
     "traceback": [
      "\u001b[1;31m---------------------------------------------------------------------------\u001b[0m",
      "\u001b[1;31mNameError\u001b[0m                                 Traceback (most recent call last)",
      "\u001b[1;32m<ipython-input-75-a508b55803ed>\u001b[0m in \u001b[0;36m<module>\u001b[1;34m\u001b[0m\n\u001b[0;32m      2\u001b[0m \u001b[1;33m\u001b[0m\u001b[0m\n\u001b[0;32m      3\u001b[0m \u001b[0mplt\u001b[0m\u001b[1;33m.\u001b[0m\u001b[0mfigure\u001b[0m\u001b[1;33m(\u001b[0m\u001b[0mfigsize\u001b[0m \u001b[1;33m=\u001b[0m \u001b[1;33m(\u001b[0m\u001b[1;36m10\u001b[0m\u001b[1;33m,\u001b[0m \u001b[1;36m10\u001b[0m\u001b[1;33m)\u001b[0m\u001b[1;33m)\u001b[0m\u001b[1;33m\u001b[0m\u001b[1;33m\u001b[0m\u001b[0m\n\u001b[1;32m----> 4\u001b[1;33m \u001b[0msubset\u001b[0m \u001b[1;33m=\u001b[0m \u001b[0mstats\u001b[0m\u001b[1;33m[\u001b[0m\u001b[0mstats\u001b[0m\u001b[1;33m.\u001b[0m\u001b[0mLENGTH\u001b[0m \u001b[1;33m==\u001b[0m \u001b[1;34m\"English\"\u001b[0m\u001b[1;33m]\u001b[0m\u001b[1;33m\u001b[0m\u001b[1;33m\u001b[0m\u001b[0m\n\u001b[0m\u001b[0;32m      5\u001b[0m \u001b[0mplt\u001b[0m\u001b[1;33m.\u001b[0m\u001b[0mloglog\u001b[0m\u001b[1;33m(\u001b[0m\u001b[0msubset\u001b[0m\u001b[1;33m.\u001b[0m\u001b[0mLENGTH\u001b[0m\u001b[1;33m,\u001b[0m \u001b[0msubset\u001b[0m\u001b[1;33m.\u001b[0m\u001b[0mUNIQUE\u001b[0m\u001b[1;33m,\u001b[0m \u001b[1;34m\"o\"\u001b[0m\u001b[1;33m,\u001b[0m \u001b[0mlabel\u001b[0m\u001b[1;33m=\u001b[0m\u001b[1;34m\"English\"\u001b[0m\u001b[1;33m,\u001b[0m \u001b[0mcolor\u001b[0m\u001b[1;33m=\u001b[0m\u001b[1;34m\"crimson\"\u001b[0m\u001b[1;33m)\u001b[0m\u001b[1;33m\u001b[0m\u001b[1;33m\u001b[0m\u001b[0m\n\u001b[0;32m      6\u001b[0m \u001b[1;33m\u001b[0m\u001b[0m\n",
      "\u001b[1;31mNameError\u001b[0m: name 'stats' is not defined"
     ]
    },
    {
     "data": {
      "text/plain": [
       "<Figure size 720x720 with 0 Axes>"
      ]
     },
     "metadata": {},
     "output_type": "display_data"
    }
   ],
   "source": [
    "import matplotlib.pyplot as plt\n",
    "\n",
    "plt.figure(figsize = (10, 10))\n",
    "subset = stats[stats.LENGTH == \"English\"]\n",
    "plt.loglog(subset.LENGTH, subset.UNIQUE, \"o\", label=\"English\", color=\"crimson\")\n",
    "\n",
    "subset = stats[stats.LENGTH == \"French\"]\n",
    "plt.loglog(subset.LENGTH, subset.UNIQUE, \"o\", label=\"French\", color=\"forestgreen\")\n",
    "\n",
    "subset = stats[stats.LENGTH == \"German\"]\n",
    "plt.loglog(subset.LENGTH, subset.UNIQUE, \"o\", label=\"German\", color=\"orange\")\n",
    "\n",
    "subset = stats[stats.LENGTH == \"English\"]\n",
    "plt.loglog(subset.LENGTH, subset.UNIQUE, \"o\", label=\"Portuguse\", color=\"blueviolet\")\n",
    "\n",
    "plt.legend()\n",
    "plt.xlabel(\"Book length\")\n",
    "plt.ylabel(\"Number of unique words\")\n",
    "plt.save(\"lang_plot.pdf\")"
   ]
  },
  {
   "cell_type": "code",
   "execution_count": null,
   "metadata": {},
   "outputs": [],
   "source": []
  }
 ],
 "metadata": {
  "kernelspec": {
   "display_name": "Python 3",
   "language": "python",
   "name": "python3"
  },
  "language_info": {
   "codemirror_mode": {
    "name": "ipython",
    "version": 3
   },
   "file_extension": ".py",
   "mimetype": "text/x-python",
   "name": "python",
   "nbconvert_exporter": "python",
   "pygments_lexer": "ipython3",
   "version": "3.7.6"
  }
 },
 "nbformat": 4,
 "nbformat_minor": 4
}
