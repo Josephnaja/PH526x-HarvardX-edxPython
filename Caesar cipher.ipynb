{
 "cells": [
  {
   "cell_type": "code",
   "execution_count": 58,
   "metadata": {},
   "outputs": [],
   "source": [
    "\"\"\"\n",
    "A cipher is a secret code for a language. In this case study, we will explore a cipher that is reported \n",
    "by contemporary Greek historians to have been used by Julius Caesar to send secret messages to generals \n",
    "during times of war.\n",
    "\"\"\" "
   ]
  },
  {
   "cell_type": "code",
   "execution_count": 58,
   "metadata": {},
   "outputs": [],
   "source": [
    "#Exercise 1\n",
    "\n",
    "import string\n",
    "\n",
    "# The lowercase alphabets\n",
    "alphabet = \" \" + string.ascii_lowercase"
   ]
  },
  {
   "cell_type": "code",
   "execution_count": 64,
   "metadata": {},
   "outputs": [
    {
     "name": "stdout",
     "output_type": "stream",
     "text": [
      "14\n"
     ]
    }
   ],
   "source": [
    "#Exercise 2\n",
    "\n",
    "\"\"\"\n",
    "we will define a dictionary that specifies the index of each character in alphabet.\n",
    "Create a dictionary with keys consisting of the characters in alphabet and values consisting of the numbers from 0 to 26.\n",
    "\"\"\"\n",
    "positions = {}\n",
    "index = 0\n",
    "for char in alphabet:\n",
    "    positions[char] = index\n",
    "    index += 1\n",
    "    \n",
    "print(positions['n'])\n"
   ]
  },
  {
   "cell_type": "code",
   "execution_count": 60,
   "metadata": {},
   "outputs": [
    {
     "name": "stdout",
     "output_type": "stream",
     "text": [
      "ijanzaobnfajtadbftbs\n"
     ]
    }
   ],
   "source": [
    "#Exercise 3\n",
    "message = \"hi my name is caesar\"\n",
    "\n",
    "# we will encode this message with a Caesar cipher.\n",
    "\n",
    "encoding_list = []\n",
    "\n",
    "for char in message:\n",
    "    position = positions[char]\n",
    "    encoded_position = (position + 1) % 27\n",
    "    encoding_list.append(alphabet[encoded_position])\n",
    "encoded_message = \"\".join(encoding_list)\n",
    "\n",
    "print(encoded_message)"
   ]
  },
  {
   "cell_type": "code",
   "execution_count": 66,
   "metadata": {},
   "outputs": [
    {
     "name": "stdout",
     "output_type": "stream",
     "text": [
      "qrivgiwjvnirailjnaj \n"
     ]
    }
   ],
   "source": [
    "#Exercise 4\n",
    "\n",
    "# we will define a function that encodes a message with any given encryption key.\n",
    "def encoding(message, key = 0):\n",
    "    encoding_list = []\n",
    "    for char in message:\n",
    "        position = positions[char]\n",
    "        encoded_position = (position + key) % 27\n",
    "        encoding_list.append(alphabet[encoded_position])\n",
    "    encoded_string = \"\".join(encoding_list)\n",
    "    return encoded_string\n",
    "    \n",
    "encoded_message = encoding(message, 9)\n",
    "print(encoded_message)\n"
   ]
  },
  {
   "cell_type": "code",
   "execution_count": 69,
   "metadata": {},
   "outputs": [
    {
     "name": "stdout",
     "output_type": "stream",
     "text": [
      "hi my name is caesar\n"
     ]
    }
   ],
   "source": [
    "#Exercise 5\n",
    "\n",
    "#decode an encoded message.\n",
    "\n",
    "decoded_message = encoding(encoded_message, -9)\n",
    "print(decoded_message)"
   ]
  },
  {
   "cell_type": "code",
   "execution_count": null,
   "metadata": {},
   "outputs": [],
   "source": []
  }
 ],
 "metadata": {
  "kernelspec": {
   "display_name": "Python 3",
   "language": "python",
   "name": "python3"
  },
  "language_info": {
   "codemirror_mode": {
    "name": "ipython",
    "version": 3
   },
   "file_extension": ".py",
   "mimetype": "text/x-python",
   "name": "python",
   "nbconvert_exporter": "python",
   "pygments_lexer": "ipython3",
   "version": "3.7.6"
  }
 },
 "nbformat": 4,
 "nbformat_minor": 4
}
